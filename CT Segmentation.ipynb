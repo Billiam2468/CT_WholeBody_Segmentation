{
 "cells": [
  {
   "cell_type": "code",
   "execution_count": 1,
   "id": "c36928ab-9fc2-45e5-bb32-440230872f59",
   "metadata": {},
   "outputs": [
    {
     "name": "stderr",
     "output_type": "stream",
     "text": [
      "2024-05-11 11:26:14.163479: I tensorflow/core/platform/cpu_feature_guard.cc:182] This TensorFlow binary is optimized to use available CPU instructions in performance-critical operations.\n",
      "To enable the following instructions: AVX2 FMA, in other operations, rebuild TensorFlow with the appropriate compiler flags.\n"
     ]
    }
   ],
   "source": [
    "import os\n",
    "import numpy as np\n",
    "from numpy.typing import NDArray\n",
    "import torch\n",
    "import pydicom\n",
    "import matplotlib.pyplot as plt\n",
    "from tcia_utils import nbia\n",
    "from monai.bundle import ConfigParser, download\n",
    "from monai.transforms import LoadImage, LoadImaged, Orientation, Orientationd, EnsureChannelFirst, EnsureChannelFirstd, Compose\n",
    "from rt_utils import RTStructBuilder\n",
    "from scipy.ndimage import label, measurements\n",
    "import json"
   ]
  },
  {
   "cell_type": "code",
   "execution_count": 4,
   "id": "1659f166-a116-45aa-ad1d-b75a89d66906",
   "metadata": {},
   "outputs": [],
   "source": [
    "datadir = '/Users/williamlee/Documents/Git Repos/CT_WholeBody_Segmentation/Data/'"
   ]
  },
  {
   "cell_type": "markdown",
   "id": "21df1a09-d232-481a-87c0-24c4314dcd30",
   "metadata": {},
   "source": [
    "# Part 1: Open CT Image"
   ]
  },
  {
   "cell_type": "code",
   "execution_count": 5,
   "id": "224adef6-fffd-4768-ab59-8e571838fbfa",
   "metadata": {},
   "outputs": [],
   "source": [
    "CT_folder = os.path.join(datadir, '1.3.6.1.4.1.14519.5.2.1.3320.3273.193828570195012288011029757668')"
   ]
  },
  {
   "cell_type": "markdown",
   "id": "03c072ca-15f1-4253-a3f7-31cd77459f13",
   "metadata": {},
   "source": [
    "# Part 2: Download the Model"
   ]
  },
  {
   "cell_type": "code",
   "execution_count": 4,
   "id": "edc566b9-6a90-496e-bde6-0d14bce0e59d",
   "metadata": {},
   "outputs": [
    {
     "name": "stdout",
     "output_type": "stream",
     "text": [
      "2024-05-11 09:35:46,024 - INFO - --- input summary of monai.bundle.scripts.download ---\n",
      "2024-05-11 09:35:46,026 - INFO - > name: 'wholeBody_ct_segmentation'\n",
      "2024-05-11 09:35:46,027 - INFO - > bundle_dir: '/Users/williamlee/Documents/Git Repos/Segmentation/Tutorial/Data/'\n",
      "2024-05-11 09:35:46,028 - INFO - > source: 'monaihosting'\n",
      "2024-05-11 09:35:46,031 - INFO - > remove_prefix: 'monai_'\n",
      "2024-05-11 09:35:46,033 - INFO - > progress: True\n",
      "2024-05-11 09:35:46,036 - INFO - ---\n",
      "\n",
      "\n"
     ]
    },
    {
     "ename": "HTTPError",
     "evalue": "404 Client Error: Not Found for url: https://api.ngc.nvidia.com/v2/models/nvidia/monaihosting/wholeBody_ct_segmentation",
     "output_type": "error",
     "traceback": [
      "\u001b[0;31m---------------------------------------------------------------------------\u001b[0m",
      "\u001b[0;31mHTTPError\u001b[0m                                 Traceback (most recent call last)",
      "Cell \u001b[0;32mIn[4], line 2\u001b[0m\n\u001b[1;32m      1\u001b[0m model_name \u001b[38;5;241m=\u001b[39m \u001b[38;5;124m\"\u001b[39m\u001b[38;5;124mwholeBody_ct_segmentation\u001b[39m\u001b[38;5;124m\"\u001b[39m\n\u001b[0;32m----> 2\u001b[0m \u001b[43mdownload\u001b[49m\u001b[43m(\u001b[49m\u001b[43mname\u001b[49m\u001b[38;5;241;43m=\u001b[39;49m\u001b[43mmodel_name\u001b[49m\u001b[43m,\u001b[49m\u001b[43m \u001b[49m\u001b[43mbundle_dir\u001b[49m\u001b[38;5;241;43m=\u001b[39;49m\u001b[43mdatadir\u001b[49m\u001b[43m)\u001b[49m\n",
      "File \u001b[0;32m/usr/local/lib/python3.11/site-packages/monai/bundle/scripts.py:368\u001b[0m, in \u001b[0;36mdownload\u001b[0;34m(name, version, bundle_dir, source, repo, url, remove_prefix, progress, args_file)\u001b[0m\n\u001b[1;32m    366\u001b[0m     \u001b[38;5;28;01mraise\u001b[39;00m \u001b[38;5;167;01mValueError\u001b[39;00m(\u001b[38;5;124mf\u001b[39m\u001b[38;5;124m\"\u001b[39m\u001b[38;5;124mTo download from source: \u001b[39m\u001b[38;5;132;01m{\u001b[39;00msource_\u001b[38;5;132;01m}\u001b[39;00m\u001b[38;5;124m, `name` must be provided.\u001b[39m\u001b[38;5;124m\"\u001b[39m)\n\u001b[1;32m    367\u001b[0m \u001b[38;5;28;01mif\u001b[39;00m version_ \u001b[38;5;129;01mis\u001b[39;00m \u001b[38;5;28;01mNone\u001b[39;00m:\n\u001b[0;32m--> 368\u001b[0m     version_ \u001b[38;5;241m=\u001b[39m \u001b[43m_get_latest_bundle_version\u001b[49m\u001b[43m(\u001b[49m\u001b[43msource\u001b[49m\u001b[38;5;241;43m=\u001b[39;49m\u001b[43msource_\u001b[49m\u001b[43m,\u001b[49m\u001b[43m \u001b[49m\u001b[43mname\u001b[49m\u001b[38;5;241;43m=\u001b[39;49m\u001b[43mname_\u001b[49m\u001b[43m,\u001b[49m\u001b[43m \u001b[49m\u001b[43mrepo\u001b[49m\u001b[38;5;241;43m=\u001b[39;49m\u001b[43mrepo_\u001b[49m\u001b[43m)\u001b[49m\n\u001b[1;32m    369\u001b[0m \u001b[38;5;28;01mif\u001b[39;00m source_ \u001b[38;5;241m==\u001b[39m \u001b[38;5;124m\"\u001b[39m\u001b[38;5;124mgithub\u001b[39m\u001b[38;5;124m\"\u001b[39m:\n\u001b[1;32m    370\u001b[0m     \u001b[38;5;28;01mif\u001b[39;00m version_ \u001b[38;5;129;01mis\u001b[39;00m \u001b[38;5;129;01mnot\u001b[39;00m \u001b[38;5;28;01mNone\u001b[39;00m:\n",
      "File \u001b[0;32m/usr/local/lib/python3.11/site-packages/monai/bundle/scripts.py:243\u001b[0m, in \u001b[0;36m_get_latest_bundle_version\u001b[0;34m(source, name, repo)\u001b[0m\n\u001b[1;32m    241\u001b[0m     \u001b[38;5;28;01mreturn\u001b[39;00m \u001b[38;5;28;01mNone\u001b[39;00m\n\u001b[1;32m    242\u001b[0m \u001b[38;5;28;01melif\u001b[39;00m source \u001b[38;5;241m==\u001b[39m \u001b[38;5;124m\"\u001b[39m\u001b[38;5;124mmonaihosting\u001b[39m\u001b[38;5;124m\"\u001b[39m:\n\u001b[0;32m--> 243\u001b[0m     \u001b[38;5;28;01mreturn\u001b[39;00m \u001b[43m_get_latest_bundle_version_monaihosting\u001b[49m\u001b[43m(\u001b[49m\u001b[43mname\u001b[49m\u001b[43m)\u001b[49m\n\u001b[1;32m    244\u001b[0m \u001b[38;5;28;01melif\u001b[39;00m source \u001b[38;5;241m==\u001b[39m \u001b[38;5;124m\"\u001b[39m\u001b[38;5;124mgithub\u001b[39m\u001b[38;5;124m\"\u001b[39m:\n\u001b[1;32m    245\u001b[0m     repo_owner, repo_name, tag_name \u001b[38;5;241m=\u001b[39m repo\u001b[38;5;241m.\u001b[39msplit(\u001b[38;5;124m\"\u001b[39m\u001b[38;5;124m/\u001b[39m\u001b[38;5;124m\"\u001b[39m)\n",
      "File \u001b[0;32m/usr/local/lib/python3.11/site-packages/monai/bundle/scripts.py:227\u001b[0m, in \u001b[0;36m_get_latest_bundle_version_monaihosting\u001b[0;34m(name)\u001b[0m\n\u001b[1;32m    225\u001b[0m \u001b[38;5;28;01mif\u001b[39;00m has_requests:\n\u001b[1;32m    226\u001b[0m     resp \u001b[38;5;241m=\u001b[39m requests_get(full_url)\n\u001b[0;32m--> 227\u001b[0m     \u001b[43mresp\u001b[49m\u001b[38;5;241;43m.\u001b[39;49m\u001b[43mraise_for_status\u001b[49m\u001b[43m(\u001b[49m\u001b[43m)\u001b[49m\n\u001b[1;32m    228\u001b[0m \u001b[38;5;28;01melse\u001b[39;00m:\n\u001b[1;32m    229\u001b[0m     \u001b[38;5;28;01mraise\u001b[39;00m \u001b[38;5;167;01mValueError\u001b[39;00m(\u001b[38;5;124m\"\u001b[39m\u001b[38;5;124mNGC API requires requests package.  Please install it.\u001b[39m\u001b[38;5;124m\"\u001b[39m)\n",
      "File \u001b[0;32m/usr/local/lib/python3.11/site-packages/requests/models.py:1021\u001b[0m, in \u001b[0;36mResponse.raise_for_status\u001b[0;34m(self)\u001b[0m\n\u001b[1;32m   1016\u001b[0m     http_error_msg \u001b[38;5;241m=\u001b[39m (\n\u001b[1;32m   1017\u001b[0m         \u001b[38;5;124mf\u001b[39m\u001b[38;5;124m\"\u001b[39m\u001b[38;5;132;01m{\u001b[39;00m\u001b[38;5;28mself\u001b[39m\u001b[38;5;241m.\u001b[39mstatus_code\u001b[38;5;132;01m}\u001b[39;00m\u001b[38;5;124m Server Error: \u001b[39m\u001b[38;5;132;01m{\u001b[39;00mreason\u001b[38;5;132;01m}\u001b[39;00m\u001b[38;5;124m for url: \u001b[39m\u001b[38;5;132;01m{\u001b[39;00m\u001b[38;5;28mself\u001b[39m\u001b[38;5;241m.\u001b[39murl\u001b[38;5;132;01m}\u001b[39;00m\u001b[38;5;124m\"\u001b[39m\n\u001b[1;32m   1018\u001b[0m     )\n\u001b[1;32m   1020\u001b[0m \u001b[38;5;28;01mif\u001b[39;00m http_error_msg:\n\u001b[0;32m-> 1021\u001b[0m     \u001b[38;5;28;01mraise\u001b[39;00m HTTPError(http_error_msg, response\u001b[38;5;241m=\u001b[39m\u001b[38;5;28mself\u001b[39m)\n",
      "\u001b[0;31mHTTPError\u001b[0m: 404 Client Error: Not Found for url: https://api.ngc.nvidia.com/v2/models/nvidia/monaihosting/wholeBody_ct_segmentation"
     ]
    }
   ],
   "source": [
    "model_name = \"wholeBody_ct_segmentation\"\n",
    "download(name=model_name, bundle_dir=datadir)"
   ]
  },
  {
   "cell_type": "code",
   "execution_count": 6,
   "id": "d9bf7114-86b4-4114-bdd1-c8d538324099",
   "metadata": {},
   "outputs": [],
   "source": [
    "# Define path to model\n",
    "model_path = os.path.join(datadir, 'wholeBody_ct_segmentation', 'models', 'model_lowres.pt')\n",
    "config_path = os.path.join(datadir, 'wholeBody_ct_segmentation', 'configs', 'inference.json')"
   ]
  },
  {
   "cell_type": "markdown",
   "id": "e802990c-e81e-4137-a6e4-460fa74aef9a",
   "metadata": {},
   "source": [
    "# Part 3: Pipeline Set-Up"
   ]
  },
  {
   "cell_type": "markdown",
   "id": "408d915a-1e39-48f9-9564-8bc9783ce1b3",
   "metadata": {},
   "source": [
    "## 3.1: Config Instance"
   ]
  },
  {
   "cell_type": "code",
   "execution_count": 7,
   "id": "ab8cbe66-136b-4ebd-8476-17c1970d69d7",
   "metadata": {},
   "outputs": [],
   "source": [
    "# Config instance to read from json file\n",
    "config = ConfigParser()\n",
    "config.read_config(config_path)"
   ]
  },
  {
   "cell_type": "markdown",
   "id": "44049fb3-0b3f-4ba7-b439-21f1cf1e5408",
   "metadata": {},
   "source": [
    "## 3.2: Preprocessing"
   ]
  },
  {
   "cell_type": "markdown",
   "id": "404f919b-1b94-4a3c-96dd-f32ccb5676af",
   "metadata": {},
   "source": [
    "From this we can extract the preprocessing pipeline specified by the `inference.json` file\n",
    "* These are all the operations applied to the data before feeding it to the model"
   ]
  },
  {
   "cell_type": "code",
   "execution_count": 8,
   "id": "57206f13-de21-4bdc-873a-f5ec3c050f62",
   "metadata": {},
   "outputs": [],
   "source": [
    "preprocessing = config.get_parsed_content(\"preprocessing\")"
   ]
  },
  {
   "cell_type": "code",
   "execution_count": 9,
   "id": "e72bed1f-7c96-4e74-8d0f-3396e40deae7",
   "metadata": {},
   "outputs": [],
   "source": [
    "data = preprocessing({'image': CT_folder})"
   ]
  },
  {
   "cell_type": "markdown",
   "id": "59b78975-9870-4969-ab2b-36d8af2b13a1",
   "metadata": {},
   "source": [
    "## 3.3: Inferer"
   ]
  },
  {
   "cell_type": "code",
   "execution_count": 10,
   "id": "190441da-0ec0-49ae-9ef3-f8fc1f5252c6",
   "metadata": {},
   "outputs": [],
   "source": [
    "# Takes in the data and the model, and returns model output\n",
    "inferer = config.get_parsed_content(\"inferer\")"
   ]
  },
  {
   "cell_type": "markdown",
   "id": "ec88b3aa-9c81-48b8-904e-f402f2fa281d",
   "metadata": {},
   "source": [
    "## 3.4: Postprocesser"
   ]
  },
  {
   "cell_type": "code",
   "execution_count": 11,
   "id": "83528876-6035-4f3b-b793-bd9a9b7e8f50",
   "metadata": {},
   "outputs": [
    {
     "data": {
      "text/plain": [
       "torch.Size([1, 1, 167, 167, 650])"
      ]
     },
     "execution_count": 11,
     "metadata": {},
     "output_type": "execute_result"
    }
   ],
   "source": [
    "postprocessing = config.get_parsed_content(\"postprocessing\")\n",
    "data['image'].unsqueeze(0).shape"
   ]
  },
  {
   "cell_type": "markdown",
   "id": "7989565a-1438-4778-a238-1503529748e7",
   "metadata": {},
   "source": [
    "# Part 5: Load the Model"
   ]
  },
  {
   "cell_type": "code",
   "execution_count": 12,
   "id": "ffb86404-978b-4393-8c50-5ac745c635d8",
   "metadata": {},
   "outputs": [],
   "source": [
    "# Obtain the model using the \"network\" key\n",
    "model = config.get_parsed_content(\"network\")"
   ]
  },
  {
   "cell_type": "code",
   "execution_count": 13,
   "id": "708ac933-d4e7-451b-b059-a5300fd15772",
   "metadata": {},
   "outputs": [
    {
     "name": "stdout",
     "output_type": "stream",
     "text": [
      "/Users/williamlee/Documents/Git Repos/Segmentation/Tutorial/Data/wholeBody_ct_segmentation/models/model_lowres.pt\n"
     ]
    },
    {
     "data": {
      "text/plain": [
       "<All keys matched successfully>"
      ]
     },
     "execution_count": 13,
     "metadata": {},
     "output_type": "execute_result"
    }
   ],
   "source": [
    "# Load model with pre-trained parameters\n",
    "print(model_path)\n",
    "\n",
    "# Load the state dictionary\n",
    "state_dict = torch.load(model_path, map_location=torch.device('cpu'))\n",
    "\n",
    "# Load the state dictionary onto the model\n",
    "model.load_state_dict(state_dict)"
   ]
  },
  {
   "cell_type": "markdown",
   "id": "f8234587-29ff-4bf2-8638-32f105bf694e",
   "metadata": {},
   "source": [
    "# Part 6: Prediction"
   ]
  },
  {
   "cell_type": "code",
   "execution_count": null,
   "id": "07f5094d-f7b7-48f3-a75b-7746ef4142b8",
   "metadata": {},
   "outputs": [],
   "source": [
    "data = preprocessing({'image': CT_folder}) # returns a dictionary\n",
    "# 2. Compute mask prediction, add it to dictionary\n",
    "with torch.no_grad():\n",
    "    # Have to add additional batch dimension to feed into model\n",
    "    data['pred'] = inferer(data['image'].unsqueeze(0), network=model, device='cpu')\n",
    "# Remove batch dimension in image and prediction\n",
    "data['pred'] = data['pred'][0]\n",
    "data['image'] = data['image'][0]\n",
    "# Apply postprocessing to data\n",
    "data = postprocessing(data)\n",
    "segmentation = torch.flip(data['pred'][0], dims=[2])\n",
    "segmentation = segmentation.cpu().numpy()"
   ]
  },
  {
   "cell_type": "code",
   "execution_count": null,
   "id": "0d8b00ad-7de3-4807-998c-c7c550c2a2cd",
   "metadata": {},
   "outputs": [],
   "source": [
    "slice_idx = 250\n",
    "CT_coronal_slice = CT[0,:,slice_idx].cpu().numpy()\n",
    "segmentation_coronal_slice = segmentation[:,slice_idx]"
   ]
  },
  {
   "cell_type": "code",
   "execution_count": null,
   "id": "40e1840c",
   "metadata": {},
   "outputs": [],
   "source": [
    "plt.subplots(1,2,figsize=(6,8))\n",
    "plt.subplot(121)\n",
    "plt.pcolormesh(CT_coronal_slice.T, cmap='Greys_r')\n",
    "plt.axis('off')\n",
    "plt.subplot(122)\n",
    "plt.pcolormesh(segmentation_coronal_slice.T, cmap='nipy_spectral')\n",
    "plt.axis('off')\n",
    "plt.show()"
   ]
  }
 ],
 "metadata": {
  "kernelspec": {
   "display_name": "Python 3",
   "language": "python",
   "name": "python3"
  },
  "language_info": {
   "codemirror_mode": {
    "name": "ipython",
    "version": 3
   },
   "file_extension": ".py",
   "mimetype": "text/x-python",
   "name": "python",
   "nbconvert_exporter": "python",
   "pygments_lexer": "ipython3",
   "version": "3.11.2"
  }
 },
 "nbformat": 4,
 "nbformat_minor": 5
}
